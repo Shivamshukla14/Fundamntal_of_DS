{
 "cells": [
  {
   "cell_type": "markdown",
   "id": "5ec48f30",
   "metadata": {},
   "source": [
    "# Discrete Distributions"
   ]
  },
  {
   "cell_type": "code",
   "execution_count": 1,
   "id": "cb0315d0",
   "metadata": {},
   "outputs": [],
   "source": [
    "%matplotlib inline\n",
    "import matplotlib.pyplot as plt\n",
    "from IPython.display import Math, Latex\n",
    "from IPython.core.display import Image\n",
    "import numpy as np"
   ]
  },
  {
   "cell_type": "code",
   "execution_count": 2,
   "id": "0ce31228",
   "metadata": {},
   "outputs": [],
   "source": [
    "import seaborn as sns\n",
    "sns.set(color_codes = True)\n",
    "sns.set(rc = {'figure.figsize':(5,5)})"
   ]
  },
  {
   "cell_type": "markdown",
   "id": "bb481e79",
   "metadata": {},
   "source": [
    "# Uniform Distributions"
   ]
  },
  {
   "cell_type": "code",
   "execution_count": 3,
   "id": "caf5a4b7",
   "metadata": {},
   "outputs": [
    {
     "data": {
      "image/png": "[encoded data removed]",
      "text/plain": [
       "<Figure size 360x360 with 1 Axes>"
      ]
     },
     "metadata": {},
     "output_type": "display_data"
    }
   ],
   "source": [
    "from scipy.stats import randint\n",
    "import matplotlib.pyplot as plt\n",
    "fig, ax = plt.subplots(1,1)\n",
    "\n",
    "low, high = 7, 31\n",
    "mean, var, skew, kurt = randint.stats(low, high, moments='mvsk')\n",
    "\n",
    "x = np.arange(randint.ppf(0.01, low ,high),\n",
    "              randint.ppf(0.99, low ,high))\n",
    "ax.plot(x, randint.pmf(x ,low, high), 'bo' ,ms = 8, label = 'randint pmf')\n",
    "ax.vlines(x, 0, randint.pmf(x ,low, high), colors = 'b', lw = 5, alpha = 0.5)\n",
    "\n",
    "rv = randint(low, high)\n",
    "ax.vlines(x, 0, rv.pmf(x), colors = 'k', linestyles = '-', lw = 1, label = 'frozen pmf')\n",
    "ax.legend(loc = 'best', frameon = False)\n",
    "plt.show()\n",
    "\n",
    "r = randint.rvs(low, high, size = 1000)"
   ]
  },
  {
   "cell_type": "code",
   "execution_count": 4,
   "id": "91580eb3",
   "metadata": {},
   "outputs": [
    {
     "data": {
      "text/plain": [
       "True"
      ]
     },
     "execution_count": 4,
     "metadata": {},
     "output_type": "execute_result"
    }
   ],
   "source": [
    "prob = randint.cdf(x , low, high)\n",
    "np.allclose(x, randint.ppf(prob, low, high))"
   ]
  },
  {
   "cell_type": "code",
   "execution_count": null,
   "id": "505947f7",
   "metadata": {},
   "outputs": [],
   "source": []
  }
 ],
 "metadata": {
  "kernelspec": {
   "display_name": "Python 3 (ipykernel)",
   "language": "python",
   "name": "python3"
  },
  "language_info": {
   "codemirror_mode": {
    "name": "ipython",
    "version": 3
   },
   "file_extension": ".py",
   "mimetype": "text/x-python",
   "name": "python",
   "nbconvert_exporter": "python",
   "pygments_lexer": "ipython3",
   "version": "3.9.7"
  }
 },
 "nbformat": 4,
 "nbformat_minor": 5
}
