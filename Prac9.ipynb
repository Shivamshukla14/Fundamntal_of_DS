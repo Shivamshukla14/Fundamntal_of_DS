{
 "cells": [
  {
   "cell_type": "code",
   "execution_count": 29,
   "id": "224ac2f6",
   "metadata": {},
   "outputs": [],
   "source": [
    "import pandas as pd\n",
    "import warnings\n",
    "warnings.filterwarnings('ignore')"
   ]
  },
  {
   "cell_type": "code",
   "execution_count": 2,
   "id": "f5396875",
   "metadata": {},
   "outputs": [],
   "source": [
    "dict1 = {\"Name\":[\"Dan\",\"Elizabeth\",\"Jon\",\"Maria\",\"Mark\",\"Bill\",\"Jess\",\"Julia\",\"Jeff\",\"Ben\"],\n",
    "         \"Salary\":[40000,32000,45000,54000,72000,62000,92000,55000,35000,48000],\n",
    "         \"Country\":[\"USA\",\"Brazil\",\"Italy\",\"USA\",\"USA\",\"Brazil\",\"Italy\",\"USA\",\"Italy\",\"Brazil\"]\n",
    "}"
   ]
  },
  {
   "cell_type": "code",
   "execution_count": 5,
   "id": "8d431a40",
   "metadata": {},
   "outputs": [],
   "source": [
    "df = pd.DataFrame(dict1)"
   ]
  },
  {
   "cell_type": "code",
   "execution_count": 6,
   "id": "23e1edf7",
   "metadata": {},
   "outputs": [
    {
     "data": {
      "text/html": [
       "<div>\n",
       "<style scoped>\n",
       "    .dataframe tbody tr th:only-of-type {\n",
       "        vertical-align: middle;\n",
       "    }\n",
       "\n",
       "    .dataframe tbody tr th {\n",
       "        vertical-align: top;\n",
       "    }\n",
       "\n",
       "    .dataframe thead th {\n",
       "        text-align: right;\n",
       "    }\n",
       "</style>\n",
       "<table border=\"1\" class=\"dataframe\">\n",
       "  <thead>\n",
       "    <tr style=\"text-align: right;\">\n",
       "      <th></th>\n",
       "      <th>Name</th>\n",
       "      <th>Salary</th>\n",
       "      <th>Country</th>\n",
       "    </tr>\n",
       "  </thead>\n",
       "  <tbody>\n",
       "    <tr>\n",
       "      <th>0</th>\n",
       "      <td>Dan</td>\n",
       "      <td>40000</td>\n",
       "      <td>USA</td>\n",
       "    </tr>\n",
       "    <tr>\n",
       "      <th>1</th>\n",
       "      <td>Elizabeth</td>\n",
       "      <td>32000</td>\n",
       "      <td>Brazil</td>\n",
       "    </tr>\n",
       "    <tr>\n",
       "      <th>2</th>\n",
       "      <td>Jon</td>\n",
       "      <td>45000</td>\n",
       "      <td>Italy</td>\n",
       "    </tr>\n",
       "    <tr>\n",
       "      <th>3</th>\n",
       "      <td>Maria</td>\n",
       "      <td>54000</td>\n",
       "      <td>USA</td>\n",
       "    </tr>\n",
       "    <tr>\n",
       "      <th>4</th>\n",
       "      <td>Mark</td>\n",
       "      <td>72000</td>\n",
       "      <td>USA</td>\n",
       "    </tr>\n",
       "    <tr>\n",
       "      <th>5</th>\n",
       "      <td>Bill</td>\n",
       "      <td>62000</td>\n",
       "      <td>Brazil</td>\n",
       "    </tr>\n",
       "    <tr>\n",
       "      <th>6</th>\n",
       "      <td>Jess</td>\n",
       "      <td>92000</td>\n",
       "      <td>Italy</td>\n",
       "    </tr>\n",
       "    <tr>\n",
       "      <th>7</th>\n",
       "      <td>Julia</td>\n",
       "      <td>55000</td>\n",
       "      <td>USA</td>\n",
       "    </tr>\n",
       "    <tr>\n",
       "      <th>8</th>\n",
       "      <td>Jeff</td>\n",
       "      <td>35000</td>\n",
       "      <td>Italy</td>\n",
       "    </tr>\n",
       "    <tr>\n",
       "      <th>9</th>\n",
       "      <td>Ben</td>\n",
       "      <td>48000</td>\n",
       "      <td>Brazil</td>\n",
       "    </tr>\n",
       "  </tbody>\n",
       "</table>\n",
       "</div>"
      ],
      "text/plain": [
       "        Name  Salary Country\n",
       "0        Dan   40000     USA\n",
       "1  Elizabeth   32000  Brazil\n",
       "2        Jon   45000   Italy\n",
       "3      Maria   54000     USA\n",
       "4       Mark   72000     USA\n",
       "5       Bill   62000  Brazil\n",
       "6       Jess   92000   Italy\n",
       "7      Julia   55000     USA\n",
       "8       Jeff   35000   Italy\n",
       "9        Ben   48000  Brazil"
      ]
     },
     "execution_count": 6,
     "metadata": {},
     "output_type": "execute_result"
    }
   ],
   "source": [
    "df"
   ]
  },
  {
   "cell_type": "code",
   "execution_count": 10,
   "id": "cbe54007",
   "metadata": {},
   "outputs": [],
   "source": [
    "csv_1 = df.to_csv(\"salary.csv\")"
   ]
  },
  {
   "cell_type": "code",
   "execution_count": 13,
   "id": "3c043a54",
   "metadata": {},
   "outputs": [
    {
     "data": {
      "text/html": [
       "<div>\n",
       "<style scoped>\n",
       "    .dataframe tbody tr th:only-of-type {\n",
       "        vertical-align: middle;\n",
       "    }\n",
       "\n",
       "    .dataframe tbody tr th {\n",
       "        vertical-align: top;\n",
       "    }\n",
       "\n",
       "    .dataframe thead th {\n",
       "        text-align: right;\n",
       "    }\n",
       "</style>\n",
       "<table border=\"1\" class=\"dataframe\">\n",
       "  <thead>\n",
       "    <tr style=\"text-align: right;\">\n",
       "      <th></th>\n",
       "      <th>Unnamed: 0</th>\n",
       "      <th>Name</th>\n",
       "      <th>Salary</th>\n",
       "      <th>Country</th>\n",
       "    </tr>\n",
       "  </thead>\n",
       "  <tbody>\n",
       "    <tr>\n",
       "      <th>0</th>\n",
       "      <td>0</td>\n",
       "      <td>Dan</td>\n",
       "      <td>40000</td>\n",
       "      <td>USA</td>\n",
       "    </tr>\n",
       "    <tr>\n",
       "      <th>1</th>\n",
       "      <td>1</td>\n",
       "      <td>Elizabeth</td>\n",
       "      <td>32000</td>\n",
       "      <td>Brazil</td>\n",
       "    </tr>\n",
       "    <tr>\n",
       "      <th>2</th>\n",
       "      <td>2</td>\n",
       "      <td>Jon</td>\n",
       "      <td>45000</td>\n",
       "      <td>Italy</td>\n",
       "    </tr>\n",
       "    <tr>\n",
       "      <th>3</th>\n",
       "      <td>3</td>\n",
       "      <td>Maria</td>\n",
       "      <td>54000</td>\n",
       "      <td>USA</td>\n",
       "    </tr>\n",
       "    <tr>\n",
       "      <th>4</th>\n",
       "      <td>4</td>\n",
       "      <td>Mark</td>\n",
       "      <td>72000</td>\n",
       "      <td>USA</td>\n",
       "    </tr>\n",
       "    <tr>\n",
       "      <th>5</th>\n",
       "      <td>5</td>\n",
       "      <td>Bill</td>\n",
       "      <td>62000</td>\n",
       "      <td>Brazil</td>\n",
       "    </tr>\n",
       "    <tr>\n",
       "      <th>6</th>\n",
       "      <td>6</td>\n",
       "      <td>Jess</td>\n",
       "      <td>92000</td>\n",
       "      <td>Italy</td>\n",
       "    </tr>\n",
       "    <tr>\n",
       "      <th>7</th>\n",
       "      <td>7</td>\n",
       "      <td>Julia</td>\n",
       "      <td>55000</td>\n",
       "      <td>USA</td>\n",
       "    </tr>\n",
       "    <tr>\n",
       "      <th>8</th>\n",
       "      <td>8</td>\n",
       "      <td>Jeff</td>\n",
       "      <td>35000</td>\n",
       "      <td>Italy</td>\n",
       "    </tr>\n",
       "    <tr>\n",
       "      <th>9</th>\n",
       "      <td>9</td>\n",
       "      <td>Ben</td>\n",
       "      <td>48000</td>\n",
       "      <td>Brazil</td>\n",
       "    </tr>\n",
       "  </tbody>\n",
       "</table>\n",
       "</div>"
      ],
      "text/plain": [
       "   Unnamed: 0       Name  Salary Country\n",
       "0           0        Dan   40000     USA\n",
       "1           1  Elizabeth   32000  Brazil\n",
       "2           2        Jon   45000   Italy\n",
       "3           3      Maria   54000     USA\n",
       "4           4       Mark   72000     USA\n",
       "5           5       Bill   62000  Brazil\n",
       "6           6       Jess   92000   Italy\n",
       "7           7      Julia   55000     USA\n",
       "8           8       Jeff   35000   Italy\n",
       "9           9        Ben   48000  Brazil"
      ]
     },
     "execution_count": 13,
     "metadata": {},
     "output_type": "execute_result"
    }
   ],
   "source": [
    "pd.read_csv(\"salary.csv\")"
   ]
  },
  {
   "cell_type": "code",
   "execution_count": 17,
   "id": "4bf4ea1f",
   "metadata": {},
   "outputs": [
    {
     "data": {
      "text/plain": [
       "53500.0"
      ]
     },
     "execution_count": 17,
     "metadata": {},
     "output_type": "execute_result"
    }
   ],
   "source": [
    "mean = df[\"Salary\"].mean()\n",
    "mean"
   ]
  },
  {
   "cell_type": "code",
   "execution_count": 19,
   "id": "daf8fd60",
   "metadata": {},
   "outputs": [
    {
     "data": {
      "text/plain": [
       "51000.0"
      ]
     },
     "execution_count": 19,
     "metadata": {},
     "output_type": "execute_result"
    }
   ],
   "source": [
    "median = df[\"Salary\"].median()\n",
    "median"
   ]
  },
  {
   "cell_type": "code",
   "execution_count": 18,
   "id": "ec7a07d4",
   "metadata": {},
   "outputs": [
    {
     "data": {
      "text/plain": [
       "0    32000\n",
       "1    35000\n",
       "2    40000\n",
       "3    45000\n",
       "4    48000\n",
       "5    54000\n",
       "6    55000\n",
       "7    62000\n",
       "8    72000\n",
       "9    92000\n",
       "dtype: int64"
      ]
     },
     "execution_count": 18,
     "metadata": {},
     "output_type": "execute_result"
    }
   ],
   "source": [
    "mode = df[\"Salary\"].mode()\n",
    "mode"
   ]
  },
  {
   "cell_type": "code",
   "execution_count": 20,
   "id": "bf7a2248",
   "metadata": {},
   "outputs": [
    {
     "data": {
      "text/plain": [
       "32000"
      ]
     },
     "execution_count": 20,
     "metadata": {},
     "output_type": "execute_result"
    }
   ],
   "source": [
    "min_sal = df[\"Salary\"].min()\n",
    "min_sal"
   ]
  },
  {
   "cell_type": "code",
   "execution_count": 22,
   "id": "311103d0",
   "metadata": {},
   "outputs": [
    {
     "data": {
      "text/plain": [
       "92000"
      ]
     },
     "execution_count": 22,
     "metadata": {},
     "output_type": "execute_result"
    }
   ],
   "source": [
    "max_sal = df[\"Salary\"].max()\n",
    "max_sal"
   ]
  },
  {
   "cell_type": "code",
   "execution_count": 23,
   "id": "e8863fb8",
   "metadata": {},
   "outputs": [
    {
     "data": {
      "text/plain": [
       "535000"
      ]
     },
     "execution_count": 23,
     "metadata": {},
     "output_type": "execute_result"
    }
   ],
   "source": [
    "sum_salary = df[\"Salary\"].sum()\n",
    "sum_salary"
   ]
  },
  {
   "cell_type": "code",
   "execution_count": 24,
   "id": "08b58181",
   "metadata": {},
   "outputs": [
    {
     "data": {
      "text/plain": [
       "Country\n",
       "Brazil    142000\n",
       "Italy     172000\n",
       "USA       221000\n",
       "Name: Salary, dtype: int64"
      ]
     },
     "execution_count": 24,
     "metadata": {},
     "output_type": "execute_result"
    }
   ],
   "source": [
    "countrywise_sum = df.groupby([\"Country\"])[\"Salary\"].sum()\n",
    "countrywise_sum"
   ]
  },
  {
   "cell_type": "code",
   "execution_count": 25,
   "id": "3e5c33e4",
   "metadata": {},
   "outputs": [
    {
     "data": {
      "text/html": [
       "<div>\n",
       "<style scoped>\n",
       "    .dataframe tbody tr th:only-of-type {\n",
       "        vertical-align: middle;\n",
       "    }\n",
       "\n",
       "    .dataframe tbody tr th {\n",
       "        vertical-align: top;\n",
       "    }\n",
       "\n",
       "    .dataframe thead th {\n",
       "        text-align: right;\n",
       "    }\n",
       "</style>\n",
       "<table border=\"1\" class=\"dataframe\">\n",
       "  <thead>\n",
       "    <tr style=\"text-align: right;\">\n",
       "      <th></th>\n",
       "      <th>Name</th>\n",
       "      <th>Salary</th>\n",
       "    </tr>\n",
       "    <tr>\n",
       "      <th>Country</th>\n",
       "      <th></th>\n",
       "      <th></th>\n",
       "    </tr>\n",
       "  </thead>\n",
       "  <tbody>\n",
       "    <tr>\n",
       "      <th>Brazil</th>\n",
       "      <td>3</td>\n",
       "      <td>3</td>\n",
       "    </tr>\n",
       "    <tr>\n",
       "      <th>Italy</th>\n",
       "      <td>3</td>\n",
       "      <td>3</td>\n",
       "    </tr>\n",
       "    <tr>\n",
       "      <th>USA</th>\n",
       "      <td>4</td>\n",
       "      <td>4</td>\n",
       "    </tr>\n",
       "  </tbody>\n",
       "</table>\n",
       "</div>"
      ],
      "text/plain": [
       "         Name  Salary\n",
       "Country              \n",
       "Brazil      3       3\n",
       "Italy       3       3\n",
       "USA         4       4"
      ]
     },
     "execution_count": 25,
     "metadata": {},
     "output_type": "execute_result"
    }
   ],
   "source": [
    "countrywise_count = df.groupby([\"Country\"]).count()\n",
    "countrywise_count"
   ]
  },
  {
   "cell_type": "code",
   "execution_count": 26,
   "id": "a385b377",
   "metadata": {},
   "outputs": [
    {
     "data": {
      "text/plain": [
       "332055555.5555556"
      ]
     },
     "execution_count": 26,
     "metadata": {},
     "output_type": "execute_result"
    }
   ],
   "source": [
    "var1 = df[\"Salary\"].var()\n",
    "var1"
   ]
  },
  {
   "cell_type": "code",
   "execution_count": 27,
   "id": "3c0a44aa",
   "metadata": {},
   "outputs": [
    {
     "data": {
      "text/plain": [
       "18222.391598128816"
      ]
     },
     "execution_count": 27,
     "metadata": {},
     "output_type": "execute_result"
    }
   ],
   "source": [
    "std1 = df[\"Salary\"].std()\n",
    "std1"
   ]
  },
  {
   "cell_type": "code",
   "execution_count": 30,
   "id": "0189e6ec",
   "metadata": {},
   "outputs": [
    {
     "data": {
      "text/plain": [
       "Salary    1.021551\n",
       "dtype: float64"
      ]
     },
     "execution_count": 30,
     "metadata": {},
     "output_type": "execute_result"
    }
   ],
   "source": [
    "skew1 = df.skew(axis = 0, skipna = True)\n",
    "skew1"
   ]
  },
  {
   "cell_type": "markdown",
   "id": "8939ebe5",
   "metadata": {},
   "source": [
    "## Covariance and Correlation"
   ]
  },
  {
   "cell_type": "code",
   "execution_count": 34,
   "id": "08801607",
   "metadata": {},
   "outputs": [],
   "source": [
    "dict2 = {\n",
    "    \"Infant ID\":[1,2,3,4,5],\n",
    "    \"Gestational Age (Weeks)\":[34.7,36.0,29.3,40.1,35.7],\n",
    "    \"Birth Weight (Grams)\":[1895, 2030, 1440, 2835, 3090]\n",
    "}"
   ]
  },
  {
   "cell_type": "code",
   "execution_count": 35,
   "id": "c2b205a4",
   "metadata": {},
   "outputs": [
    {
     "data": {
      "text/html": [
       "<div>\n",
       "<style scoped>\n",
       "    .dataframe tbody tr th:only-of-type {\n",
       "        vertical-align: middle;\n",
       "    }\n",
       "\n",
       "    .dataframe tbody tr th {\n",
       "        vertical-align: top;\n",
       "    }\n",
       "\n",
       "    .dataframe thead th {\n",
       "        text-align: right;\n",
       "    }\n",
       "</style>\n",
       "<table border=\"1\" class=\"dataframe\">\n",
       "  <thead>\n",
       "    <tr style=\"text-align: right;\">\n",
       "      <th></th>\n",
       "      <th>Infant ID</th>\n",
       "      <th>Gestational Age (Weeks)</th>\n",
       "      <th>Birth Weight (Grams)</th>\n",
       "    </tr>\n",
       "  </thead>\n",
       "  <tbody>\n",
       "    <tr>\n",
       "      <th>0</th>\n",
       "      <td>1</td>\n",
       "      <td>34.7</td>\n",
       "      <td>1895</td>\n",
       "    </tr>\n",
       "    <tr>\n",
       "      <th>1</th>\n",
       "      <td>2</td>\n",
       "      <td>36.0</td>\n",
       "      <td>2030</td>\n",
       "    </tr>\n",
       "    <tr>\n",
       "      <th>2</th>\n",
       "      <td>3</td>\n",
       "      <td>29.3</td>\n",
       "      <td>1440</td>\n",
       "    </tr>\n",
       "    <tr>\n",
       "      <th>3</th>\n",
       "      <td>4</td>\n",
       "      <td>40.1</td>\n",
       "      <td>2835</td>\n",
       "    </tr>\n",
       "    <tr>\n",
       "      <th>4</th>\n",
       "      <td>5</td>\n",
       "      <td>35.7</td>\n",
       "      <td>3090</td>\n",
       "    </tr>\n",
       "  </tbody>\n",
       "</table>\n",
       "</div>"
      ],
      "text/plain": [
       "   Infant ID  Gestational Age (Weeks)  Birth Weight (Grams)\n",
       "0          1                     34.7                  1895\n",
       "1          2                     36.0                  2030\n",
       "2          3                     29.3                  1440\n",
       "3          4                     40.1                  2835\n",
       "4          5                     35.7                  3090"
      ]
     },
     "execution_count": 35,
     "metadata": {},
     "output_type": "execute_result"
    }
   ],
   "source": [
    "df1 = pd.DataFrame(dict2)\n",
    "df1"
   ]
  },
  {
   "cell_type": "code",
   "execution_count": 37,
   "id": "ab17a974",
   "metadata": {},
   "outputs": [],
   "source": [
    "csv_2 = df1.to_csv(\"BirthDate.csv\")"
   ]
  },
  {
   "cell_type": "code",
   "execution_count": 38,
   "id": "53636c26",
   "metadata": {},
   "outputs": [
    {
     "data": {
      "text/html": [
       "<div>\n",
       "<style scoped>\n",
       "    .dataframe tbody tr th:only-of-type {\n",
       "        vertical-align: middle;\n",
       "    }\n",
       "\n",
       "    .dataframe tbody tr th {\n",
       "        vertical-align: top;\n",
       "    }\n",
       "\n",
       "    .dataframe thead th {\n",
       "        text-align: right;\n",
       "    }\n",
       "</style>\n",
       "<table border=\"1\" class=\"dataframe\">\n",
       "  <thead>\n",
       "    <tr style=\"text-align: right;\">\n",
       "      <th></th>\n",
       "      <th>Unnamed: 0</th>\n",
       "      <th>Infant ID</th>\n",
       "      <th>Gestational Age (Weeks)</th>\n",
       "      <th>Birth Weight (Grams)</th>\n",
       "    </tr>\n",
       "  </thead>\n",
       "  <tbody>\n",
       "    <tr>\n",
       "      <th>0</th>\n",
       "      <td>0</td>\n",
       "      <td>1</td>\n",
       "      <td>34.7</td>\n",
       "      <td>1895</td>\n",
       "    </tr>\n",
       "    <tr>\n",
       "      <th>1</th>\n",
       "      <td>1</td>\n",
       "      <td>2</td>\n",
       "      <td>36.0</td>\n",
       "      <td>2030</td>\n",
       "    </tr>\n",
       "    <tr>\n",
       "      <th>2</th>\n",
       "      <td>2</td>\n",
       "      <td>3</td>\n",
       "      <td>29.3</td>\n",
       "      <td>1440</td>\n",
       "    </tr>\n",
       "    <tr>\n",
       "      <th>3</th>\n",
       "      <td>3</td>\n",
       "      <td>4</td>\n",
       "      <td>40.1</td>\n",
       "      <td>2835</td>\n",
       "    </tr>\n",
       "    <tr>\n",
       "      <th>4</th>\n",
       "      <td>4</td>\n",
       "      <td>5</td>\n",
       "      <td>35.7</td>\n",
       "      <td>3090</td>\n",
       "    </tr>\n",
       "  </tbody>\n",
       "</table>\n",
       "</div>"
      ],
      "text/plain": [
       "   Unnamed: 0  Infant ID  Gestational Age (Weeks)  Birth Weight (Grams)\n",
       "0           0          1                     34.7                  1895\n",
       "1           1          2                     36.0                  2030\n",
       "2           2          3                     29.3                  1440\n",
       "3           3          4                     40.1                  2835\n",
       "4           4          5                     35.7                  3090"
      ]
     },
     "execution_count": 38,
     "metadata": {},
     "output_type": "execute_result"
    }
   ],
   "source": [
    "pd.read_csv(\"BirthDate.csv\")"
   ]
  },
  {
   "cell_type": "code",
   "execution_count": 40,
   "id": "7f754a97",
   "metadata": {},
   "outputs": [
    {
     "data": {
      "text/html": [
       "<div>\n",
       "<style scoped>\n",
       "    .dataframe tbody tr th:only-of-type {\n",
       "        vertical-align: middle;\n",
       "    }\n",
       "\n",
       "    .dataframe tbody tr th {\n",
       "        vertical-align: top;\n",
       "    }\n",
       "\n",
       "    .dataframe thead th {\n",
       "        text-align: right;\n",
       "    }\n",
       "</style>\n",
       "<table border=\"1\" class=\"dataframe\">\n",
       "  <thead>\n",
       "    <tr style=\"text-align: right;\">\n",
       "      <th></th>\n",
       "      <th>Gestational Age (Weeks)</th>\n",
       "      <th>Birth Weight (Grams)</th>\n",
       "    </tr>\n",
       "    <tr>\n",
       "      <th>Infant ID</th>\n",
       "      <th></th>\n",
       "      <th></th>\n",
       "    </tr>\n",
       "  </thead>\n",
       "  <tbody>\n",
       "    <tr>\n",
       "      <th>1</th>\n",
       "      <td>34.7</td>\n",
       "      <td>1895</td>\n",
       "    </tr>\n",
       "    <tr>\n",
       "      <th>2</th>\n",
       "      <td>36.0</td>\n",
       "      <td>2030</td>\n",
       "    </tr>\n",
       "    <tr>\n",
       "      <th>3</th>\n",
       "      <td>29.3</td>\n",
       "      <td>1440</td>\n",
       "    </tr>\n",
       "    <tr>\n",
       "      <th>4</th>\n",
       "      <td>40.1</td>\n",
       "      <td>2835</td>\n",
       "    </tr>\n",
       "    <tr>\n",
       "      <th>5</th>\n",
       "      <td>35.7</td>\n",
       "      <td>3090</td>\n",
       "    </tr>\n",
       "  </tbody>\n",
       "</table>\n",
       "</div>"
      ],
      "text/plain": [
       "           Gestational Age (Weeks)  Birth Weight (Grams)\n",
       "Infant ID                                               \n",
       "1                             34.7                  1895\n",
       "2                             36.0                  2030\n",
       "3                             29.3                  1440\n",
       "4                             40.1                  2835\n",
       "5                             35.7                  3090"
      ]
     },
     "execution_count": 40,
     "metadata": {},
     "output_type": "execute_result"
    }
   ],
   "source": [
    "df1.set_index('Infant ID', inplace = True)\n",
    "df1.head()"
   ]
  },
  {
   "cell_type": "code",
   "execution_count": null,
   "id": "5fd36be1",
   "metadata": {},
   "outputs": [],
   "source": []
  }
 ],
 "metadata": {
  "kernelspec": {
   "display_name": "Python 3 (ipykernel)",
   "language": "python",
   "name": "python3"
  },
  "language_info": {
   "codemirror_mode": {
    "name": "ipython",
    "version": 3
   },
   "file_extension": ".py",
   "mimetype": "text/x-python",
   "name": "python",
   "nbconvert_exporter": "python",
   "pygments_lexer": "ipython3",
   "version": "3.9.7"
  }
 },
 "nbformat": 4,
 "nbformat_minor": 5
}
